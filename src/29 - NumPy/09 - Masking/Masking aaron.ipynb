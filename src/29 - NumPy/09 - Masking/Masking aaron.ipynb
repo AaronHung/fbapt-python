{
 "cells": [
  {
   "cell_type": "markdown",
   "metadata": {},
   "source": [
    "### Boolean Masking"
   ]
  },
  {
   "cell_type": "markdown",
   "metadata": {},
   "source": [
    "Boolean masking is basically like a filter that can be placed on an array to select elements which satisfy certain criteria."
   ]
  },
  {
   "cell_type": "markdown",
   "metadata": {},
   "source": [
    "First, let's look at a function in NumPy, called `np.less`."
   ]
  },
  {
   "cell_type": "code",
   "execution_count": 1,
   "metadata": {},
   "outputs": [
    {
     "data": {
      "text/plain": [
       "array([-1,  1, -2,  2, -3,  3])"
      ]
     },
     "execution_count": 1,
     "metadata": {},
     "output_type": "execute_result"
    }
   ],
   "source": [
    "import numpy as np\n",
    "\n",
    "m = np.array([-1, 1, -2, 2, -3, 3])\n",
    "m"
   ]
  },
  {
   "cell_type": "code",
   "execution_count": 2,
   "metadata": {},
   "outputs": [
    {
     "data": {
      "text/plain": [
       "array([ True, False,  True, False,  True, False])"
      ]
     },
     "execution_count": 2,
     "metadata": {},
     "output_type": "execute_result"
    }
   ],
   "source": [
    "np.less(m, 0)"
   ]
  },
  {
   "cell_type": "code",
   "execution_count": 3,
   "metadata": {},
   "outputs": [
    {
     "data": {
      "text/plain": [
       "array([-1, -2, -3])"
      ]
     },
     "execution_count": 3,
     "metadata": {},
     "output_type": "execute_result"
    }
   ],
   "source": [
    "m[np.less(m, 0)]"
   ]
  },
  {
   "cell_type": "code",
   "execution_count": 4,
   "metadata": {},
   "outputs": [
    {
     "data": {
      "text/plain": [
       "array([1, 3])"
      ]
     },
     "execution_count": 4,
     "metadata": {},
     "output_type": "execute_result"
    }
   ],
   "source": [
    "m[(m > 0) & (m % 2 ==1)]"
   ]
  },
  {
   "cell_type": "code",
   "execution_count": null,
   "metadata": {},
   "outputs": [],
   "source": []
  },
  {
   "cell_type": "code",
   "execution_count": null,
   "metadata": {},
   "outputs": [],
   "source": []
  },
  {
   "cell_type": "code",
   "execution_count": 5,
   "metadata": {},
   "outputs": [
    {
     "data": {
      "text/plain": [
       "array([ True, False,  True, False,  True, False])"
      ]
     },
     "execution_count": 5,
     "metadata": {},
     "output_type": "execute_result"
    }
   ],
   "source": [
    "m < 0"
   ]
  },
  {
   "cell_type": "code",
   "execution_count": 6,
   "metadata": {},
   "outputs": [
    {
     "data": {
      "text/plain": [
       "array([False,  True, False,  True, False,  True])"
      ]
     },
     "execution_count": 6,
     "metadata": {},
     "output_type": "execute_result"
    }
   ],
   "source": [
    "mask = m > 0\n",
    "mask"
   ]
  },
  {
   "cell_type": "code",
   "execution_count": 7,
   "metadata": {},
   "outputs": [
    {
     "data": {
      "text/plain": [
       "array([1, 2, 3])"
      ]
     },
     "execution_count": 7,
     "metadata": {},
     "output_type": "execute_result"
    }
   ],
   "source": [
    "m[mask]"
   ]
  },
  {
   "cell_type": "code",
   "execution_count": null,
   "metadata": {},
   "outputs": [],
   "source": []
  },
  {
   "cell_type": "code",
   "execution_count": 9,
   "metadata": {},
   "outputs": [],
   "source": [
    "m = np.array(\n",
    "    [\n",
    "        [-1, 1, -2, 2, -3, 3],\n",
    "        [-4, 4, -5, 5, -6, 6],\n",
    "        [-7, 7, -8, 8, -9, 9],\n",
    "    ]\n",
    ")"
   ]
  },
  {
   "cell_type": "code",
   "execution_count": 10,
   "metadata": {},
   "outputs": [
    {
     "data": {
      "text/plain": [
       "array([-1, -2, -3, -4, -5, -6, -7, -8, -9])"
      ]
     },
     "execution_count": 10,
     "metadata": {},
     "output_type": "execute_result"
    }
   ],
   "source": [
    "negative_number = m[m < 0]\n",
    "negative_number"
   ]
  },
  {
   "cell_type": "code",
   "execution_count": null,
   "metadata": {},
   "outputs": [],
   "source": []
  },
  {
   "cell_type": "code",
   "execution_count": null,
   "metadata": {},
   "outputs": [],
   "source": []
  },
  {
   "cell_type": "code",
   "execution_count": 11,
   "metadata": {},
   "outputs": [
    {
     "data": {
      "text/plain": [
       "array([-5, -4, -3, -2, -1,  0,  1,  2,  3,  4,  5])"
      ]
     },
     "execution_count": 11,
     "metadata": {},
     "output_type": "execute_result"
    }
   ],
   "source": [
    "arr = np.arange(-5, 6)\n",
    "arr"
   ]
  },
  {
   "cell_type": "code",
   "execution_count": 12,
   "metadata": {},
   "outputs": [
    {
     "data": {
      "text/plain": [
       "array([1, 2, 3])"
      ]
     },
     "execution_count": 12,
     "metadata": {},
     "output_type": "execute_result"
    }
   ],
   "source": [
    "arr[(arr > 0) & (arr < 4)]"
   ]
  },
  {
   "cell_type": "code",
   "execution_count": null,
   "metadata": {},
   "outputs": [],
   "source": []
  },
  {
   "cell_type": "code",
   "execution_count": 15,
   "metadata": {},
   "outputs": [
    {
     "data": {
      "text/plain": [
       "array([-5, -4, -3, -2, -1,  0,  1,  2,  3,  4,  5])"
      ]
     },
     "execution_count": 15,
     "metadata": {},
     "output_type": "execute_result"
    }
   ],
   "source": [
    "arr"
   ]
  },
  {
   "cell_type": "code",
   "execution_count": 14,
   "metadata": {},
   "outputs": [
    {
     "data": {
      "text/plain": [
       "array([-5, -4, -3, -2, -1,  0,  1,  2,  3,  4,  5])"
      ]
     },
     "execution_count": 14,
     "metadata": {},
     "output_type": "execute_result"
    }
   ],
   "source": [
    "arr[~(arr < 0)]\n",
    "arr  # print the original array, not the masked one"
   ]
  },
  {
   "cell_type": "code",
   "execution_count": 16,
   "metadata": {},
   "outputs": [
    {
     "data": {
      "text/plain": [
       "array([0, 1, 2, 3, 4, 5])"
      ]
     },
     "execution_count": 16,
     "metadata": {},
     "output_type": "execute_result"
    }
   ],
   "source": [
    "arr[~(arr < 0)]"
   ]
  },
  {
   "cell_type": "code",
   "execution_count": null,
   "metadata": {},
   "outputs": [],
   "source": []
  },
  {
   "cell_type": "code",
   "execution_count": null,
   "metadata": {},
   "outputs": [],
   "source": []
  },
  {
   "cell_type": "code",
   "execution_count": 17,
   "metadata": {},
   "outputs": [],
   "source": [
    "import csv\n",
    "from dateutil import parser"
   ]
  },
  {
   "cell_type": "code",
   "execution_count": null,
   "metadata": {},
   "outputs": [],
   "source": []
  },
  {
   "cell_type": "code",
   "execution_count": 18,
   "metadata": {},
   "outputs": [
    {
     "name": "stdout",
     "output_type": "stream",
     "text": [
      "['Symbol', ' Date', ' Close', ' Volume', ' Open', ' High', ' Low']\n",
      "['AAPL', ' 10/29/2020', ' 115.32', ' 146129200', ' 112.37', ' 116.93', ' 112.2']\n",
      "['AAPL', ' 10/28/2020', ' 111.2', ' 143937800', ' 115.05', ' 115.43', ' 111.1']\n",
      "['AAPL', ' 10/27/2020', ' 116.6', ' 92276770', ' 115.49', ' 117.28', ' 114.5399']\n",
      "['AAPL', ' 10/26/2020', ' 115.05', ' 111850700', ' 114.01', ' 116.55', ' 112.88']\n",
      "['AAPL', ' 10/23/2020', ' 115.04', ' 82572650', ' 116.39', ' 116.55', ' 114.28']\n",
      "['AAPL', ' 10/22/2020', ' 115.75', ' 101988000', ' 117.45', ' 118.04', ' 114.59']\n",
      "['AAPL', ' 10/21/2020', ' 116.87', ' 89945980', ' 116.67', ' 118.705', ' 116.45']\n",
      "['AAPL', ' 10/20/2020', ' 117.51', ' 124423700', ' 116.2', ' 118.98', ' 115.63']\n",
      "['AAPL', ' 10/19/2020', ' 115.98', ' 120639300', ' 119.96', ' 120.419', ' 115.66']\n",
      "['AAPL', ' 10/16/2020', ' 119.02', ' 115393800', ' 121.28', ' 121.548', ' 118.81']\n",
      "['AAPL', ' 10/15/2020', ' 120.71', ' 112559200', ' 118.72', ' 121.2', ' 118.15']\n",
      "['AAPL', ' 10/14/2020', ' 121.19', ' 151062300', ' 121', ' 123.03', ' 119.62']\n",
      "['AAPL', ' 10/13/2020', ' 121.1', ' 262330500', ' 125.27', ' 125.39', ' 119.65']\n",
      "['AAPL', ' 10/12/2020', ' 124.4', ' 240226800', ' 120.06', ' 125.18', ' 119.2845']\n",
      "['AAPL', ' 10/09/2020', ' 116.97', ' 100506900', ' 115.28', ' 117', ' 114.92']\n",
      "['AAPL', ' 10/08/2020', ' 114.97', ' 83477150', ' 116.25', ' 116.4', ' 114.5901']\n",
      "['AAPL', ' 10/07/2020', ' 115.08', ' 96848990', ' 114.62', ' 115.55', ' 114.13']\n",
      "['AAPL', ' 10/06/2020', ' 113.16', ' 161498200', ' 115.7', ' 116.12', ' 112.25']\n",
      "['AAPL', ' 10/05/2020', ' 116.5', ' 106243800', ' 113.91', ' 116.65', ' 113.55']\n",
      "['AAPL', ' 10/02/2020', ' 113.02', ' 144712000', ' 112.89', ' 115.37', ' 112.22']\n",
      "['AAPL', ' 10/01/2020', ' 116.79', ' 116120400', ' 117.64', ' 117.72', ' 115.83']\n",
      "['AAPL', ' 09/30/2020', ' 115.81', ' 142675200', ' 113.79', ' 117.26', ' 113.62']\n",
      "['AAPL', ' 09/29/2020', ' 114.09', ' 100060500', ' 114.55', ' 115.31', ' 113.57']\n"
     ]
    }
   ],
   "source": [
    "with open('AAPL.csv') as f:\n",
    "    reader = csv.reader(f)\n",
    "    for row in reader:\n",
    "        print(row)"
   ]
  },
  {
   "cell_type": "code",
   "execution_count": 19,
   "metadata": {},
   "outputs": [
    {
     "name": "stdout",
     "output_type": "stream",
     "text": [
      "['Symbol', 'Date', 'Close', 'Volume', 'Open', 'High', 'Low']\n",
      "[['AAPL', '10/29/2020', '115.32', '146129200', '112.37', '116.93', '112.2'], ['AAPL', '10/28/2020', '111.2', '143937800', '115.05', '115.43', '111.1'], ['AAPL', '10/27/2020', '116.6', '92276770', '115.49', '117.28', '114.5399'], ['AAPL', '10/26/2020', '115.05', '111850700', '114.01', '116.55', '112.88'], ['AAPL', '10/23/2020', '115.04', '82572650', '116.39', '116.55', '114.28'], ['AAPL', '10/22/2020', '115.75', '101988000', '117.45', '118.04', '114.59'], ['AAPL', '10/21/2020', '116.87', '89945980', '116.67', '118.705', '116.45'], ['AAPL', '10/20/2020', '117.51', '124423700', '116.2', '118.98', '115.63'], ['AAPL', '10/19/2020', '115.98', '120639300', '119.96', '120.419', '115.66'], ['AAPL', '10/16/2020', '119.02', '115393800', '121.28', '121.548', '118.81'], ['AAPL', '10/15/2020', '120.71', '112559200', '118.72', '121.2', '118.15'], ['AAPL', '10/14/2020', '121.19', '151062300', '121', '123.03', '119.62'], ['AAPL', '10/13/2020', '121.1', '262330500', '125.27', '125.39', '119.65'], ['AAPL', '10/12/2020', '124.4', '240226800', '120.06', '125.18', '119.2845'], ['AAPL', '10/09/2020', '116.97', '100506900', '115.28', '117', '114.92'], ['AAPL', '10/08/2020', '114.97', '83477150', '116.25', '116.4', '114.5901'], ['AAPL', '10/07/2020', '115.08', '96848990', '114.62', '115.55', '114.13'], ['AAPL', '10/06/2020', '113.16', '161498200', '115.7', '116.12', '112.25'], ['AAPL', '10/05/2020', '116.5', '106243800', '113.91', '116.65', '113.55'], ['AAPL', '10/02/2020', '113.02', '144712000', '112.89', '115.37', '112.22'], ['AAPL', '10/01/2020', '116.79', '116120400', '117.64', '117.72', '115.83'], ['AAPL', '09/30/2020', '115.81', '142675200', '113.79', '117.26', '113.62'], ['AAPL', '09/29/2020', '114.09', '100060500', '114.55', '115.31', '113.57']]\n"
     ]
    }
   ],
   "source": [
    "with open('AAPL.csv') as f:\n",
    "    reader = csv.reader(f, skipinitialspace=True)\n",
    "    headers = next(reader)\n",
    "\n",
    "    data = list(reader)\n",
    "    \n",
    "    print(headers)\n",
    "    print(data)"
   ]
  },
  {
   "cell_type": "code",
   "execution_count": 21,
   "metadata": {},
   "outputs": [
    {
     "name": "stdout",
     "output_type": "stream",
     "text": [
      "['Symbol', 'Date', 'Close', 'Volume', 'Open', 'High', 'Low']\n",
      "['AAPL', '10/29/2020', '115.32', '146129200', '112.37', '116.93', '112.2']\n",
      "['AAPL', '10/28/2020', '111.2', '143937800', '115.05', '115.43', '111.1']\n",
      "['AAPL', '10/27/2020', '116.6', '92276770', '115.49', '117.28', '114.5399']\n",
      "['AAPL', '10/26/2020', '115.05', '111850700', '114.01', '116.55', '112.88']\n",
      "['AAPL', '10/23/2020', '115.04', '82572650', '116.39', '116.55', '114.28']\n",
      "['AAPL', '10/22/2020', '115.75', '101988000', '117.45', '118.04', '114.59']\n",
      "['AAPL', '10/21/2020', '116.87', '89945980', '116.67', '118.705', '116.45']\n",
      "['AAPL', '10/20/2020', '117.51', '124423700', '116.2', '118.98', '115.63']\n",
      "['AAPL', '10/19/2020', '115.98', '120639300', '119.96', '120.419', '115.66']\n",
      "['AAPL', '10/16/2020', '119.02', '115393800', '121.28', '121.548', '118.81']\n",
      "['AAPL', '10/15/2020', '120.71', '112559200', '118.72', '121.2', '118.15']\n",
      "['AAPL', '10/14/2020', '121.19', '151062300', '121', '123.03', '119.62']\n",
      "['AAPL', '10/13/2020', '121.1', '262330500', '125.27', '125.39', '119.65']\n",
      "['AAPL', '10/12/2020', '124.4', '240226800', '120.06', '125.18', '119.2845']\n",
      "['AAPL', '10/09/2020', '116.97', '100506900', '115.28', '117', '114.92']\n",
      "['AAPL', '10/08/2020', '114.97', '83477150', '116.25', '116.4', '114.5901']\n",
      "['AAPL', '10/07/2020', '115.08', '96848990', '114.62', '115.55', '114.13']\n",
      "['AAPL', '10/06/2020', '113.16', '161498200', '115.7', '116.12', '112.25']\n",
      "['AAPL', '10/05/2020', '116.5', '106243800', '113.91', '116.65', '113.55']\n",
      "['AAPL', '10/02/2020', '113.02', '144712000', '112.89', '115.37', '112.22']\n",
      "['AAPL', '10/01/2020', '116.79', '116120400', '117.64', '117.72', '115.83']\n",
      "['AAPL', '09/30/2020', '115.81', '142675200', '113.79', '117.26', '113.62']\n",
      "['AAPL', '09/29/2020', '114.09', '100060500', '114.55', '115.31', '113.57']\n"
     ]
    }
   ],
   "source": [
    "print(headers)\n",
    "for row in data:\n",
    "    print(row)"
   ]
  },
  {
   "cell_type": "code",
   "execution_count": 22,
   "metadata": {},
   "outputs": [
    {
     "data": {
      "text/plain": [
       "array([['AAPL', '10/29/2020', '115.32', '146129200', '112.37', '116.93',\n",
       "        '112.2'],\n",
       "       ['AAPL', '10/28/2020', '111.2', '143937800', '115.05', '115.43',\n",
       "        '111.1'],\n",
       "       ['AAPL', '10/27/2020', '116.6', '92276770', '115.49', '117.28',\n",
       "        '114.5399'],\n",
       "       ['AAPL', '10/26/2020', '115.05', '111850700', '114.01', '116.55',\n",
       "        '112.88'],\n",
       "       ['AAPL', '10/23/2020', '115.04', '82572650', '116.39', '116.55',\n",
       "        '114.28'],\n",
       "       ['AAPL', '10/22/2020', '115.75', '101988000', '117.45', '118.04',\n",
       "        '114.59'],\n",
       "       ['AAPL', '10/21/2020', '116.87', '89945980', '116.67', '118.705',\n",
       "        '116.45'],\n",
       "       ['AAPL', '10/20/2020', '117.51', '124423700', '116.2', '118.98',\n",
       "        '115.63'],\n",
       "       ['AAPL', '10/19/2020', '115.98', '120639300', '119.96', '120.419',\n",
       "        '115.66'],\n",
       "       ['AAPL', '10/16/2020', '119.02', '115393800', '121.28', '121.548',\n",
       "        '118.81'],\n",
       "       ['AAPL', '10/15/2020', '120.71', '112559200', '118.72', '121.2',\n",
       "        '118.15'],\n",
       "       ['AAPL', '10/14/2020', '121.19', '151062300', '121', '123.03',\n",
       "        '119.62'],\n",
       "       ['AAPL', '10/13/2020', '121.1', '262330500', '125.27', '125.39',\n",
       "        '119.65'],\n",
       "       ['AAPL', '10/12/2020', '124.4', '240226800', '120.06', '125.18',\n",
       "        '119.2845'],\n",
       "       ['AAPL', '10/09/2020', '116.97', '100506900', '115.28', '117',\n",
       "        '114.92'],\n",
       "       ['AAPL', '10/08/2020', '114.97', '83477150', '116.25', '116.4',\n",
       "        '114.5901'],\n",
       "       ['AAPL', '10/07/2020', '115.08', '96848990', '114.62', '115.55',\n",
       "        '114.13'],\n",
       "       ['AAPL', '10/06/2020', '113.16', '161498200', '115.7', '116.12',\n",
       "        '112.25'],\n",
       "       ['AAPL', '10/05/2020', '116.5', '106243800', '113.91', '116.65',\n",
       "        '113.55'],\n",
       "       ['AAPL', '10/02/2020', '113.02', '144712000', '112.89', '115.37',\n",
       "        '112.22'],\n",
       "       ['AAPL', '10/01/2020', '116.79', '116120400', '117.64', '117.72',\n",
       "        '115.83'],\n",
       "       ['AAPL', '09/30/2020', '115.81', '142675200', '113.79', '117.26',\n",
       "        '113.62'],\n",
       "       ['AAPL', '09/29/2020', '114.09', '100060500', '114.55', '115.31',\n",
       "        '113.57']], dtype='<U10')"
      ]
     },
     "execution_count": 22,
     "metadata": {},
     "output_type": "execute_result"
    }
   ],
   "source": [
    "arr = np.array(data)\n",
    "arr"
   ]
  },
  {
   "cell_type": "code",
   "execution_count": null,
   "metadata": {},
   "outputs": [],
   "source": []
  },
  {
   "cell_type": "code",
   "execution_count": 24,
   "metadata": {},
   "outputs": [
    {
     "data": {
      "text/plain": [
       "array([datetime.datetime(2020, 10, 29, 0, 0),\n",
       "       datetime.datetime(2020, 10, 28, 0, 0),\n",
       "       datetime.datetime(2020, 10, 27, 0, 0),\n",
       "       datetime.datetime(2020, 10, 26, 0, 0),\n",
       "       datetime.datetime(2020, 10, 23, 0, 0),\n",
       "       datetime.datetime(2020, 10, 22, 0, 0),\n",
       "       datetime.datetime(2020, 10, 21, 0, 0),\n",
       "       datetime.datetime(2020, 10, 20, 0, 0),\n",
       "       datetime.datetime(2020, 10, 19, 0, 0),\n",
       "       datetime.datetime(2020, 10, 16, 0, 0),\n",
       "       datetime.datetime(2020, 10, 15, 0, 0),\n",
       "       datetime.datetime(2020, 10, 14, 0, 0),\n",
       "       datetime.datetime(2020, 10, 13, 0, 0),\n",
       "       datetime.datetime(2020, 10, 12, 0, 0),\n",
       "       datetime.datetime(2020, 10, 9, 0, 0),\n",
       "       datetime.datetime(2020, 10, 8, 0, 0),\n",
       "       datetime.datetime(2020, 10, 7, 0, 0),\n",
       "       datetime.datetime(2020, 10, 6, 0, 0),\n",
       "       datetime.datetime(2020, 10, 5, 0, 0),\n",
       "       datetime.datetime(2020, 10, 2, 0, 0),\n",
       "       datetime.datetime(2020, 10, 1, 0, 0),\n",
       "       datetime.datetime(2020, 9, 30, 0, 0),\n",
       "       datetime.datetime(2020, 9, 29, 0, 0)], dtype=object)"
      ]
     },
     "execution_count": 24,
     "metadata": {},
     "output_type": "execute_result"
    }
   ],
   "source": [
    "dates = np.array([parser.parse(dt) for dt in arr[:,1]])\n",
    "dates"
   ]
  },
  {
   "cell_type": "code",
   "execution_count": null,
   "metadata": {},
   "outputs": [],
   "source": []
  },
  {
   "cell_type": "code",
   "execution_count": null,
   "metadata": {},
   "outputs": [],
   "source": []
  },
  {
   "cell_type": "code",
   "execution_count": 26,
   "metadata": {},
   "outputs": [
    {
     "name": "stdout",
     "output_type": "stream",
     "text": [
      "['Symbol', 'Date', 'Close', 'Volume', 'Open', 'High', 'Low']\n"
     ]
    }
   ],
   "source": [
    "print(headers)"
   ]
  },
  {
   "cell_type": "code",
   "execution_count": 25,
   "metadata": {},
   "outputs": [
    {
     "data": {
      "text/plain": [
       "array([[112.37  , 116.93  , 112.2   , 115.32  ],\n",
       "       [115.05  , 115.43  , 111.1   , 111.2   ],\n",
       "       [115.49  , 117.28  , 114.5399, 116.6   ],\n",
       "       [114.01  , 116.55  , 112.88  , 115.05  ],\n",
       "       [116.39  , 116.55  , 114.28  , 115.04  ],\n",
       "       [117.45  , 118.04  , 114.59  , 115.75  ],\n",
       "       [116.67  , 118.705 , 116.45  , 116.87  ],\n",
       "       [116.2   , 118.98  , 115.63  , 117.51  ],\n",
       "       [119.96  , 120.419 , 115.66  , 115.98  ],\n",
       "       [121.28  , 121.548 , 118.81  , 119.02  ],\n",
       "       [118.72  , 121.2   , 118.15  , 120.71  ],\n",
       "       [121.    , 123.03  , 119.62  , 121.19  ],\n",
       "       [125.27  , 125.39  , 119.65  , 121.1   ],\n",
       "       [120.06  , 125.18  , 119.2845, 124.4   ],\n",
       "       [115.28  , 117.    , 114.92  , 116.97  ],\n",
       "       [116.25  , 116.4   , 114.5901, 114.97  ],\n",
       "       [114.62  , 115.55  , 114.13  , 115.08  ],\n",
       "       [115.7   , 116.12  , 112.25  , 113.16  ],\n",
       "       [113.91  , 116.65  , 113.55  , 116.5   ],\n",
       "       [112.89  , 115.37  , 112.22  , 113.02  ],\n",
       "       [117.64  , 117.72  , 115.83  , 116.79  ],\n",
       "       [113.79  , 117.26  , 113.62  , 115.81  ],\n",
       "       [114.55  , 115.31  , 113.57  , 114.09  ]])"
      ]
     },
     "execution_count": 25,
     "metadata": {},
     "output_type": "execute_result"
    }
   ],
   "source": [
    "ohlc = arr[:, [4, 5, 6, 2]].astype(float) # open, high, low, close\n",
    "ohlc"
   ]
  },
  {
   "cell_type": "code",
   "execution_count": null,
   "metadata": {},
   "outputs": [],
   "source": []
  },
  {
   "cell_type": "code",
   "execution_count": 27,
   "metadata": {},
   "outputs": [
    {
     "data": {
      "text/plain": [
       "array([False, False,  True, False, False, False,  True,  True, False,\n",
       "        True,  True,  True,  True,  True,  True, False, False, False,\n",
       "        True, False,  True, False, False])"
      ]
     },
     "execution_count": 27,
     "metadata": {},
     "output_type": "execute_result"
    }
   ],
   "source": [
    "ohlc[:, 3] > 116.0  # close (open, high, low, close)"
   ]
  },
  {
   "cell_type": "code",
   "execution_count": 28,
   "metadata": {},
   "outputs": [
    {
     "data": {
      "text/plain": [
       "array([[115.49  , 117.28  , 114.5399, 116.6   ],\n",
       "       [116.67  , 118.705 , 116.45  , 116.87  ],\n",
       "       [116.2   , 118.98  , 115.63  , 117.51  ],\n",
       "       [121.28  , 121.548 , 118.81  , 119.02  ],\n",
       "       [118.72  , 121.2   , 118.15  , 120.71  ],\n",
       "       [121.    , 123.03  , 119.62  , 121.19  ],\n",
       "       [125.27  , 125.39  , 119.65  , 121.1   ],\n",
       "       [120.06  , 125.18  , 119.2845, 124.4   ],\n",
       "       [115.28  , 117.    , 114.92  , 116.97  ],\n",
       "       [113.91  , 116.65  , 113.55  , 116.5   ],\n",
       "       [117.64  , 117.72  , 115.83  , 116.79  ]])"
      ]
     },
     "execution_count": 28,
     "metadata": {},
     "output_type": "execute_result"
    }
   ],
   "source": [
    "ohlc[ohlc[:, 3] > 116.0]"
   ]
  },
  {
   "cell_type": "code",
   "execution_count": null,
   "metadata": {},
   "outputs": [],
   "source": []
  },
  {
   "cell_type": "code",
   "execution_count": 34,
   "metadata": {},
   "outputs": [
    {
     "data": {
      "text/plain": [
       "array([115.32, 111.2 , 116.6 , 115.05, 115.04, 115.75, 116.87, 117.51,\n",
       "       115.98, 119.02, 120.71, 121.19, 121.1 , 124.4 , 116.97, 114.97,\n",
       "       115.08, 113.16, 116.5 , 113.02, 116.79, 115.81, 114.09])"
      ]
     },
     "execution_count": 34,
     "metadata": {},
     "output_type": "execute_result"
    }
   ],
   "source": [
    "ohlc[:, 3]"
   ]
  },
  {
   "cell_type": "code",
   "execution_count": 35,
   "metadata": {},
   "outputs": [
    {
     "data": {
      "text/plain": [
       "array([[112.37  , 116.93  , 112.2   , 115.32  ],\n",
       "       [115.05  , 115.43  , 111.1   , 111.2   ],\n",
       "       [115.49  , 117.28  , 114.5399, 116.6   ],\n",
       "       [114.01  , 116.55  , 112.88  , 115.05  ],\n",
       "       [116.39  , 116.55  , 114.28  , 115.04  ],\n",
       "       [117.45  , 118.04  , 114.59  , 115.75  ],\n",
       "       [116.67  , 118.705 , 116.45  , 116.87  ],\n",
       "       [116.2   , 118.98  , 115.63  , 117.51  ],\n",
       "       [119.96  , 120.419 , 115.66  , 115.98  ],\n",
       "       [121.28  , 121.548 , 118.81  , 119.02  ],\n",
       "       [118.72  , 121.2   , 118.15  , 120.71  ],\n",
       "       [121.    , 123.03  , 119.62  , 121.19  ],\n",
       "       [125.27  , 125.39  , 119.65  , 121.1   ],\n",
       "       [120.06  , 125.18  , 119.2845, 124.4   ],\n",
       "       [115.28  , 117.    , 114.92  , 116.97  ],\n",
       "       [116.25  , 116.4   , 114.5901, 114.97  ],\n",
       "       [114.62  , 115.55  , 114.13  , 115.08  ],\n",
       "       [115.7   , 116.12  , 112.25  , 113.16  ],\n",
       "       [113.91  , 116.65  , 113.55  , 116.5   ],\n",
       "       [112.89  , 115.37  , 112.22  , 113.02  ],\n",
       "       [117.64  , 117.72  , 115.83  , 116.79  ],\n",
       "       [113.79  , 117.26  , 113.62  , 115.81  ],\n",
       "       [114.55  , 115.31  , 113.57  , 114.09  ]])"
      ]
     },
     "execution_count": 35,
     "metadata": {},
     "output_type": "execute_result"
    }
   ],
   "source": [
    "ohlc"
   ]
  },
  {
   "cell_type": "code",
   "execution_count": null,
   "metadata": {},
   "outputs": [],
   "source": []
  },
  {
   "cell_type": "code",
   "execution_count": 39,
   "metadata": {},
   "outputs": [
    {
     "name": "stdout",
     "output_type": "stream",
     "text": [
      "[115.32 111.2  116.6  115.05 115.04 115.75 116.87 117.51 115.98 119.02]\n"
     ]
    }
   ],
   "source": [
    "# aaron - verification\n",
    "\n",
    "print(ohlc[:10, 3])"
   ]
  },
  {
   "cell_type": "code",
   "execution_count": 43,
   "metadata": {},
   "outputs": [
    {
     "name": "stdout",
     "output_type": "stream",
     "text": [
      "2\n",
      "116.6\n",
      "6\n",
      "116.87\n",
      "7\n",
      "117.51\n",
      "9\n",
      "119.02\n",
      "10\n",
      "120.71\n",
      "11\n",
      "121.19\n",
      "12\n",
      "121.1\n",
      "13\n",
      "124.4\n",
      "14\n",
      "116.97\n",
      "18\n",
      "116.5\n",
      "20\n",
      "116.79\n"
     ]
    }
   ],
   "source": [
    "for index, item in enumerate(ohlc[:, 3]):\n",
    "    if item > 116:\n",
    "        print(index)\n",
    "        print(item)"
   ]
  },
  {
   "cell_type": "code",
   "execution_count": 44,
   "metadata": {},
   "outputs": [
    {
     "data": {
      "text/plain": [
       "array([[115.49  , 117.28  , 114.5399, 116.6   ],\n",
       "       [116.67  , 118.705 , 116.45  , 116.87  ],\n",
       "       [116.2   , 118.98  , 115.63  , 117.51  ],\n",
       "       [121.28  , 121.548 , 118.81  , 119.02  ],\n",
       "       [118.72  , 121.2   , 118.15  , 120.71  ],\n",
       "       [121.    , 123.03  , 119.62  , 121.19  ],\n",
       "       [125.27  , 125.39  , 119.65  , 121.1   ],\n",
       "       [120.06  , 125.18  , 119.2845, 124.4   ],\n",
       "       [115.28  , 117.    , 114.92  , 116.97  ],\n",
       "       [113.91  , 116.65  , 113.55  , 116.5   ],\n",
       "       [117.64  , 117.72  , 115.83  , 116.79  ]])"
      ]
     },
     "execution_count": 44,
     "metadata": {},
     "output_type": "execute_result"
    }
   ],
   "source": [
    "ohlc[ohlc[:, 3] > 116]"
   ]
  },
  {
   "cell_type": "code",
   "execution_count": 45,
   "metadata": {},
   "outputs": [
    {
     "data": {
      "text/plain": [
       "False"
      ]
     },
     "execution_count": 45,
     "metadata": {},
     "output_type": "execute_result"
    }
   ],
   "source": [
    "115.49 > 116"
   ]
  },
  {
   "cell_type": "code",
   "execution_count": 46,
   "metadata": {},
   "outputs": [
    {
     "data": {
      "text/plain": [
       "array([115.32, 111.2 , 116.6 , 115.05, 115.04, 115.75, 116.87, 117.51,\n",
       "       115.98, 119.02, 120.71, 121.19, 121.1 , 124.4 , 116.97, 114.97,\n",
       "       115.08, 113.16, 116.5 , 113.02, 116.79, 115.81, 114.09])"
      ]
     },
     "execution_count": 46,
     "metadata": {},
     "output_type": "execute_result"
    }
   ],
   "source": [
    "ohlc[:, 3]"
   ]
  },
  {
   "cell_type": "code",
   "execution_count": 48,
   "metadata": {},
   "outputs": [
    {
     "data": {
      "text/plain": [
       "array([False, False,  True, False, False, False,  True,  True, False,\n",
       "        True,  True,  True,  True,  True,  True, False, False, False,\n",
       "        True, False,  True, False, False])"
      ]
     },
     "execution_count": 48,
     "metadata": {},
     "output_type": "execute_result"
    }
   ],
   "source": [
    "mask = ohlc[:, 3] > 116\n",
    "mask"
   ]
  },
  {
   "cell_type": "code",
   "execution_count": 49,
   "metadata": {},
   "outputs": [
    {
     "data": {
      "text/plain": [
       "array([[115.49  , 117.28  , 114.5399, 116.6   ],\n",
       "       [116.67  , 118.705 , 116.45  , 116.87  ],\n",
       "       [116.2   , 118.98  , 115.63  , 117.51  ],\n",
       "       [121.28  , 121.548 , 118.81  , 119.02  ],\n",
       "       [118.72  , 121.2   , 118.15  , 120.71  ],\n",
       "       [121.    , 123.03  , 119.62  , 121.19  ],\n",
       "       [125.27  , 125.39  , 119.65  , 121.1   ],\n",
       "       [120.06  , 125.18  , 119.2845, 124.4   ],\n",
       "       [115.28  , 117.    , 114.92  , 116.97  ],\n",
       "       [113.91  , 116.65  , 113.55  , 116.5   ],\n",
       "       [117.64  , 117.72  , 115.83  , 116.79  ]])"
      ]
     },
     "execution_count": 49,
     "metadata": {},
     "output_type": "execute_result"
    }
   ],
   "source": [
    "ohlc[mask]"
   ]
  },
  {
   "cell_type": "markdown",
   "metadata": {},
   "source": [
    "### What's the problem in the above validation?\n",
    "\n",
    "- You saw the condition is the `close` > 116\n",
    "- however, the first number shown is `115.49` when ohlc[mask] that seems less than 116\n",
    "- that's not an error, because you've print all ohlc's 4 columns, instead of the condition on colume 3(#4 colume which is `close`)\n",
    "> - you can use the following the see the `close` float which are greater than 116: "
   ]
  },
  {
   "cell_type": "code",
   "execution_count": 50,
   "metadata": {},
   "outputs": [
    {
     "data": {
      "text/plain": [
       "array([116.6 , 116.87, 117.51, 119.02, 120.71, 121.19, 121.1 , 124.4 ,\n",
       "       116.97, 116.5 , 116.79])"
      ]
     },
     "execution_count": 50,
     "metadata": {},
     "output_type": "execute_result"
    }
   ],
   "source": [
    "ohlc[ohlc[:, 3] > 116][:, 3]"
   ]
  },
  {
   "cell_type": "code",
   "execution_count": null,
   "metadata": {},
   "outputs": [],
   "source": []
  },
  {
   "cell_type": "code",
   "execution_count": 55,
   "metadata": {},
   "outputs": [
    {
     "data": {
      "text/plain": [
       "[[datetime.datetime(2020, 10, 27, 0, 0),\n",
       "  array([115.49  , 117.28  , 114.5399, 116.6   ])],\n",
       " [datetime.datetime(2020, 10, 21, 0, 0),\n",
       "  array([116.67 , 118.705, 116.45 , 116.87 ])],\n",
       " [datetime.datetime(2020, 10, 20, 0, 0),\n",
       "  array([116.2 , 118.98, 115.63, 117.51])],\n",
       " [datetime.datetime(2020, 10, 16, 0, 0),\n",
       "  array([121.28 , 121.548, 118.81 , 119.02 ])],\n",
       " [datetime.datetime(2020, 10, 15, 0, 0),\n",
       "  array([118.72, 121.2 , 118.15, 120.71])],\n",
       " [datetime.datetime(2020, 10, 14, 0, 0),\n",
       "  array([121.  , 123.03, 119.62, 121.19])],\n",
       " [datetime.datetime(2020, 10, 13, 0, 0),\n",
       "  array([125.27, 125.39, 119.65, 121.1 ])],\n",
       " [datetime.datetime(2020, 10, 12, 0, 0),\n",
       "  array([120.06  , 125.18  , 119.2845, 124.4   ])],\n",
       " [datetime.datetime(2020, 10, 9, 0, 0),\n",
       "  array([115.28, 117.  , 114.92, 116.97])],\n",
       " [datetime.datetime(2020, 10, 5, 0, 0),\n",
       "  array([113.91, 116.65, 113.55, 116.5 ])],\n",
       " [datetime.datetime(2020, 10, 1, 0, 0),\n",
       "  array([117.64, 117.72, 115.83, 116.79])]]"
      ]
     },
     "execution_count": 55,
     "metadata": {},
     "output_type": "execute_result"
    }
   ],
   "source": [
    "filtered_data = [\n",
    "    [date, row]\n",
    "    for date, row in zip(dates[mask], ohlc[mask])\n",
    "]\n",
    "\n",
    "filtered_data"
   ]
  },
  {
   "cell_type": "code",
   "execution_count": 56,
   "metadata": {},
   "outputs": [
    {
     "name": "stdout",
     "output_type": "stream",
     "text": [
      "[datetime.datetime(2020, 10, 27, 0, 0), array([115.49  , 117.28  , 114.5399, 116.6   ])]\n",
      "[datetime.datetime(2020, 10, 21, 0, 0), array([116.67 , 118.705, 116.45 , 116.87 ])]\n",
      "[datetime.datetime(2020, 10, 20, 0, 0), array([116.2 , 118.98, 115.63, 117.51])]\n",
      "[datetime.datetime(2020, 10, 16, 0, 0), array([121.28 , 121.548, 118.81 , 119.02 ])]\n",
      "[datetime.datetime(2020, 10, 15, 0, 0), array([118.72, 121.2 , 118.15, 120.71])]\n",
      "[datetime.datetime(2020, 10, 14, 0, 0), array([121.  , 123.03, 119.62, 121.19])]\n",
      "[datetime.datetime(2020, 10, 13, 0, 0), array([125.27, 125.39, 119.65, 121.1 ])]\n",
      "[datetime.datetime(2020, 10, 12, 0, 0), array([120.06  , 125.18  , 119.2845, 124.4   ])]\n",
      "[datetime.datetime(2020, 10, 9, 0, 0), array([115.28, 117.  , 114.92, 116.97])]\n",
      "[datetime.datetime(2020, 10, 5, 0, 0), array([113.91, 116.65, 113.55, 116.5 ])]\n",
      "[datetime.datetime(2020, 10, 1, 0, 0), array([117.64, 117.72, 115.83, 116.79])]\n"
     ]
    }
   ],
   "source": [
    "for row in filtered_data:\n",
    "    print(row)"
   ]
  },
  {
   "cell_type": "code",
   "execution_count": null,
   "metadata": {},
   "outputs": [],
   "source": []
  },
  {
   "cell_type": "code",
   "execution_count": 57,
   "metadata": {},
   "outputs": [
    {
     "data": {
      "text/plain": [
       "['10/1/2020', [100, 200, 300, 400]]"
      ]
     },
     "execution_count": 57,
     "metadata": {},
     "output_type": "execute_result"
    }
   ],
   "source": [
    "date = '10/1/2020'\n",
    "numbers = [100, 200, 300, 400]\n",
    "\n",
    "[date, numbers]"
   ]
  },
  {
   "cell_type": "code",
   "execution_count": null,
   "metadata": {},
   "outputs": [],
   "source": []
  },
  {
   "cell_type": "markdown",
   "metadata": {},
   "source": [
    "> We can `unpack` an iterable using `*`:"
   ]
  },
  {
   "cell_type": "code",
   "execution_count": 58,
   "metadata": {},
   "outputs": [
    {
     "data": {
      "text/plain": [
       "[100, 200, 300, 400]"
      ]
     },
     "execution_count": 58,
     "metadata": {},
     "output_type": "execute_result"
    }
   ],
   "source": [
    "numbers"
   ]
  },
  {
   "cell_type": "code",
   "execution_count": 59,
   "metadata": {},
   "outputs": [
    {
     "ename": "SyntaxError",
     "evalue": "can't use starred expression here (3428227854.py, line 1)",
     "output_type": "error",
     "traceback": [
      "\u001b[0;36m  Cell \u001b[0;32mIn[59], line 1\u001b[0;36m\u001b[0m\n\u001b[0;31m    *numbers\u001b[0m\n\u001b[0m    ^\u001b[0m\n\u001b[0;31mSyntaxError\u001b[0m\u001b[0;31m:\u001b[0m can't use starred expression here\n"
     ]
    }
   ],
   "source": [
    "*numbers"
   ]
  },
  {
   "cell_type": "code",
   "execution_count": 60,
   "metadata": {},
   "outputs": [
    {
     "data": {
      "text/plain": [
       "[100, 200, 300, 400]"
      ]
     },
     "execution_count": 60,
     "metadata": {},
     "output_type": "execute_result"
    }
   ],
   "source": [
    "[*numbers]"
   ]
  },
  {
   "cell_type": "code",
   "execution_count": 62,
   "metadata": {},
   "outputs": [
    {
     "ename": "SyntaxError",
     "evalue": "cannot use starred expression here (3825842964.py, line 1)",
     "output_type": "error",
     "traceback": [
      "\u001b[0;36m  Cell \u001b[0;32mIn[62], line 1\u001b[0;36m\u001b[0m\n\u001b[0;31m    a = (*numbers)\u001b[0m\n\u001b[0m         ^\u001b[0m\n\u001b[0;31mSyntaxError\u001b[0m\u001b[0;31m:\u001b[0m cannot use starred expression here\n"
     ]
    }
   ],
   "source": [
    "a = (*numbers)\n",
    "a"
   ]
  },
  {
   "cell_type": "code",
   "execution_count": 63,
   "metadata": {},
   "outputs": [
    {
     "data": {
      "text/plain": [
       "['10/1/2020', 100, 200, 300, 400]"
      ]
     },
     "execution_count": 63,
     "metadata": {},
     "output_type": "execute_result"
    }
   ],
   "source": [
    "[date, *numbers]"
   ]
  },
  {
   "cell_type": "code",
   "execution_count": null,
   "metadata": {},
   "outputs": [],
   "source": []
  },
  {
   "cell_type": "code",
   "execution_count": 64,
   "metadata": {},
   "outputs": [
    {
     "name": "stdout",
     "output_type": "stream",
     "text": [
      "[datetime.datetime(2020, 10, 27, 0, 0), 115.49, 117.28, 114.5399, 116.6]\n",
      "[datetime.datetime(2020, 10, 21, 0, 0), 116.67, 118.705, 116.45, 116.87]\n",
      "[datetime.datetime(2020, 10, 20, 0, 0), 116.2, 118.98, 115.63, 117.51]\n",
      "[datetime.datetime(2020, 10, 16, 0, 0), 121.28, 121.548, 118.81, 119.02]\n",
      "[datetime.datetime(2020, 10, 15, 0, 0), 118.72, 121.2, 118.15, 120.71]\n",
      "[datetime.datetime(2020, 10, 14, 0, 0), 121.0, 123.03, 119.62, 121.19]\n",
      "[datetime.datetime(2020, 10, 13, 0, 0), 125.27, 125.39, 119.65, 121.1]\n",
      "[datetime.datetime(2020, 10, 12, 0, 0), 120.06, 125.18, 119.2845, 124.4]\n",
      "[datetime.datetime(2020, 10, 9, 0, 0), 115.28, 117.0, 114.92, 116.97]\n",
      "[datetime.datetime(2020, 10, 5, 0, 0), 113.91, 116.65, 113.55, 116.5]\n",
      "[datetime.datetime(2020, 10, 1, 0, 0), 117.64, 117.72, 115.83, 116.79]\n"
     ]
    }
   ],
   "source": [
    "filter_data = [\n",
    "    [date, *row]\n",
    "    for date, row in zip(dates[mask], ohlc[mask])\n",
    "]\n",
    "\n",
    "for row in filter_data:\n",
    "    print(row)"
   ]
  },
  {
   "cell_type": "markdown",
   "metadata": {},
   "source": [
    "> Compre with the original:\n",
    "> - this is with the whole array containing open, high, low, close as one packed array, which is not what we want.\n",
    "> - therefore we use unpack [...*something...] to unpack all the values in an array into individual float"
   ]
  },
  {
   "cell_type": "code",
   "execution_count": 66,
   "metadata": {},
   "outputs": [
    {
     "name": "stdout",
     "output_type": "stream",
     "text": [
      "[datetime.datetime(2020, 10, 27, 0, 0), array([115.49  , 117.28  , 114.5399, 116.6   ])]\n",
      "[datetime.datetime(2020, 10, 21, 0, 0), array([116.67 , 118.705, 116.45 , 116.87 ])]\n",
      "[datetime.datetime(2020, 10, 20, 0, 0), array([116.2 , 118.98, 115.63, 117.51])]\n",
      "[datetime.datetime(2020, 10, 16, 0, 0), array([121.28 , 121.548, 118.81 , 119.02 ])]\n",
      "[datetime.datetime(2020, 10, 15, 0, 0), array([118.72, 121.2 , 118.15, 120.71])]\n",
      "[datetime.datetime(2020, 10, 14, 0, 0), array([121.  , 123.03, 119.62, 121.19])]\n",
      "[datetime.datetime(2020, 10, 13, 0, 0), array([125.27, 125.39, 119.65, 121.1 ])]\n",
      "[datetime.datetime(2020, 10, 12, 0, 0), array([120.06  , 125.18  , 119.2845, 124.4   ])]\n",
      "[datetime.datetime(2020, 10, 9, 0, 0), array([115.28, 117.  , 114.92, 116.97])]\n",
      "[datetime.datetime(2020, 10, 5, 0, 0), array([113.91, 116.65, 113.55, 116.5 ])]\n",
      "[datetime.datetime(2020, 10, 1, 0, 0), array([117.64, 117.72, 115.83, 116.79])]\n"
     ]
    }
   ],
   "source": [
    "# the original unpacked array, which might NOT what we want\n",
    "filtered_data = [\n",
    "    [date, row]\n",
    "    for date, row in zip(dates[mask], ohlc[mask])\n",
    "]\n",
    "\n",
    "for row in filtered_data:\n",
    "    print(row)"
   ]
  },
  {
   "cell_type": "code",
   "execution_count": null,
   "metadata": {},
   "outputs": [],
   "source": []
  },
  {
   "cell_type": "code",
   "execution_count": null,
   "metadata": {},
   "outputs": [],
   "source": []
  },
  {
   "cell_type": "code",
   "execution_count": null,
   "metadata": {},
   "outputs": [],
   "source": []
  },
  {
   "cell_type": "code",
   "execution_count": null,
   "metadata": {},
   "outputs": [],
   "source": []
  },
  {
   "cell_type": "code",
   "execution_count": null,
   "metadata": {},
   "outputs": [],
   "source": []
  },
  {
   "cell_type": "code",
   "execution_count": null,
   "metadata": {},
   "outputs": [],
   "source": []
  },
  {
   "cell_type": "code",
   "execution_count": 1,
   "metadata": {},
   "outputs": [],
   "source": [
    "import numpy as np"
   ]
  },
  {
   "cell_type": "code",
   "execution_count": 2,
   "metadata": {},
   "outputs": [],
   "source": [
    "m = np.array([-1, 1, -2, 2, -3, 3])"
   ]
  },
  {
   "cell_type": "markdown",
   "metadata": {},
   "source": [
    "We can call the `np.less` function to determine which values in `m` are less than some value:"
   ]
  },
  {
   "cell_type": "code",
   "execution_count": 3,
   "metadata": {},
   "outputs": [
    {
     "data": {
      "text/plain": [
       "array([ True, False,  True, False,  True, False])"
      ]
     },
     "execution_count": 3,
     "metadata": {},
     "output_type": "execute_result"
    }
   ],
   "source": [
    "np.less(m, 0)"
   ]
  },
  {
   "cell_type": "markdown",
   "metadata": {},
   "source": [
    "As you can see, we get an array of Boolean values indicating whether the values was less than `0` or not."
   ]
  },
  {
   "cell_type": "markdown",
   "metadata": {},
   "source": [
    "Although we can use this function, we can also just use the Python comparison operators, which will in turn use these NumPy comparison functions transparently:"
   ]
  },
  {
   "cell_type": "code",
   "execution_count": 4,
   "metadata": {},
   "outputs": [
    {
     "data": {
      "text/plain": [
       "array([ True, False,  True, False,  True, False])"
      ]
     },
     "execution_count": 4,
     "metadata": {},
     "output_type": "execute_result"
    }
   ],
   "source": [
    "m < 0"
   ]
  },
  {
   "cell_type": "markdown",
   "metadata": {},
   "source": [
    "Now, the result is an array, and we can assign that to a variable. \n",
    "We're going to call that variable `mask`:"
   ]
  },
  {
   "cell_type": "code",
   "execution_count": 5,
   "metadata": {},
   "outputs": [],
   "source": [
    "mask = m > 0"
   ]
  },
  {
   "cell_type": "code",
   "execution_count": 6,
   "metadata": {},
   "outputs": [
    {
     "data": {
      "text/plain": [
       "array([False,  True, False,  True, False,  True])"
      ]
     },
     "execution_count": 6,
     "metadata": {},
     "output_type": "execute_result"
    }
   ],
   "source": [
    "mask"
   ]
  },
  {
   "cell_type": "markdown",
   "metadata": {},
   "source": [
    "Then, we can \"filter\" (or **mask**) the elements of `m` using this array of Boolean values:"
   ]
  },
  {
   "cell_type": "code",
   "execution_count": 7,
   "metadata": {},
   "outputs": [
    {
     "data": {
      "text/plain": [
       "array([1, 2, 3])"
      ]
     },
     "execution_count": 7,
     "metadata": {},
     "output_type": "execute_result"
    }
   ],
   "source": [
    "m[mask]"
   ]
  },
  {
   "cell_type": "markdown",
   "metadata": {},
   "source": [
    "We can simplify this by specifying the indexing and the boolean comparison in a single statement:"
   ]
  },
  {
   "cell_type": "code",
   "execution_count": 8,
   "metadata": {},
   "outputs": [
    {
     "data": {
      "text/plain": [
       "array([1, 2, 3])"
      ]
     },
     "execution_count": 8,
     "metadata": {},
     "output_type": "execute_result"
    }
   ],
   "source": [
    "m[m > 0]"
   ]
  },
  {
   "cell_type": "markdown",
   "metadata": {},
   "source": [
    "Our original array had a single dimension, and our masked array also has a single dimension, and we probably would have expected that."
   ]
  },
  {
   "cell_type": "markdown",
   "metadata": {},
   "source": [
    "However, in higher dimensional arrays, the masked array will still be 1 dimensional."
   ]
  },
  {
   "cell_type": "code",
   "execution_count": 9,
   "metadata": {},
   "outputs": [],
   "source": [
    "m = np.array(\n",
    "    [\n",
    "        [-1, 1, -2, 2],\n",
    "        [-3, 3, -4, 4],\n",
    "        [-5, 5, -6, 6]\n",
    "    ]\n",
    ")"
   ]
  },
  {
   "cell_type": "code",
   "execution_count": 10,
   "metadata": {},
   "outputs": [],
   "source": [
    "negative_numbers = m[m < 0]"
   ]
  },
  {
   "cell_type": "code",
   "execution_count": 11,
   "metadata": {},
   "outputs": [
    {
     "data": {
      "text/plain": [
       "array([-1, -2, -3, -4, -5, -6])"
      ]
     },
     "execution_count": 11,
     "metadata": {},
     "output_type": "execute_result"
    }
   ],
   "source": [
    "negative_numbers"
   ]
  },
  {
   "cell_type": "markdown",
   "metadata": {},
   "source": [
    "We can combine these boolean masks using **and**, **or** and **not** as well.\n",
    "\n",
    "However, we have to use `&` for **and**, `|` for **or** and `~` for **not**, not the standard Python operators `and`, `or` and `not`."
   ]
  },
  {
   "cell_type": "code",
   "execution_count": 12,
   "metadata": {},
   "outputs": [
    {
     "data": {
      "text/plain": [
       "array([-5, -4, -3, -2, -1,  0,  1,  2,  3,  4,  5])"
      ]
     },
     "execution_count": 12,
     "metadata": {},
     "output_type": "execute_result"
    }
   ],
   "source": [
    "arr = np.arange(-5, 6)\n",
    "arr"
   ]
  },
  {
   "cell_type": "code",
   "execution_count": 13,
   "metadata": {},
   "outputs": [
    {
     "data": {
      "text/plain": [
       "array([1, 2, 3])"
      ]
     },
     "execution_count": 13,
     "metadata": {},
     "output_type": "execute_result"
    }
   ],
   "source": [
    "arr[(arr > 0) & (arr < 4)]"
   ]
  },
  {
   "cell_type": "markdown",
   "metadata": {},
   "source": [
    "Note also that because of operator precedence we **have** to use the parentheses shown above."
   ]
  },
  {
   "cell_type": "markdown",
   "metadata": {},
   "source": [
    "For the **not** operator, we use `~`:"
   ]
  },
  {
   "cell_type": "code",
   "execution_count": 14,
   "metadata": {},
   "outputs": [
    {
     "data": {
      "text/plain": [
       "array([0, 1, 2, 3, 4, 5])"
      ]
     },
     "execution_count": 14,
     "metadata": {},
     "output_type": "execute_result"
    }
   ],
   "source": [
    "arr[~(arr < 0)]"
   ]
  },
  {
   "cell_type": "markdown",
   "metadata": {},
   "source": [
    "Of course, we should probably just use the `>=` operator instead - simpler to understand:"
   ]
  },
  {
   "cell_type": "code",
   "execution_count": 15,
   "metadata": {},
   "outputs": [
    {
     "data": {
      "text/plain": [
       "array([0, 1, 2, 3, 4, 5])"
      ]
     },
     "execution_count": 15,
     "metadata": {},
     "output_type": "execute_result"
    }
   ],
   "source": [
    "arr[arr >= 0]"
   ]
  },
  {
   "cell_type": "markdown",
   "metadata": {},
   "source": [
    "Let's look at an example where we want to filter certain rows of data based on the values in one of the columns."
   ]
  },
  {
   "cell_type": "markdown",
   "metadata": {},
   "source": [
    "We'll use the file `AAPL.csv` that we've seen before, and first load it up into two arrays - one for the dates, and the other with the OHLC/Volume numerical data."
   ]
  },
  {
   "cell_type": "code",
   "execution_count": 16,
   "metadata": {},
   "outputs": [],
   "source": [
    "import csv\n",
    "from dateutil import parser"
   ]
  },
  {
   "cell_type": "markdown",
   "metadata": {},
   "source": [
    "Let's first recall what's in the file:"
   ]
  },
  {
   "cell_type": "code",
   "execution_count": 17,
   "metadata": {},
   "outputs": [
    {
     "name": "stdout",
     "output_type": "stream",
     "text": [
      "['Symbol', 'Date', 'Close', 'Volume', 'Open', 'High', 'Low']\n",
      "['AAPL', '10/29/2020', '115.32', '146129200', '112.37', '116.93', '112.2']\n",
      "['AAPL', '10/28/2020', '111.2', '143937800', '115.05', '115.43', '111.1']\n",
      "['AAPL', '10/27/2020', '116.6', '92276770', '115.49', '117.28', '114.5399']\n",
      "['AAPL', '10/26/2020', '115.05', '111850700', '114.01', '116.55', '112.88']\n",
      "['AAPL', '10/23/2020', '115.04', '82572650', '116.39', '116.55', '114.28']\n",
      "['AAPL', '10/22/2020', '115.75', '101988000', '117.45', '118.04', '114.59']\n",
      "['AAPL', '10/21/2020', '116.87', '89945980', '116.67', '118.705', '116.45']\n",
      "['AAPL', '10/20/2020', '117.51', '124423700', '116.2', '118.98', '115.63']\n",
      "['AAPL', '10/19/2020', '115.98', '120639300', '119.96', '120.419', '115.66']\n",
      "['AAPL', '10/16/2020', '119.02', '115393800', '121.28', '121.548', '118.81']\n",
      "['AAPL', '10/15/2020', '120.71', '112559200', '118.72', '121.2', '118.15']\n",
      "['AAPL', '10/14/2020', '121.19', '151062300', '121', '123.03', '119.62']\n",
      "['AAPL', '10/13/2020', '121.1', '262330500', '125.27', '125.39', '119.65']\n",
      "['AAPL', '10/12/2020', '124.4', '240226800', '120.06', '125.18', '119.2845']\n",
      "['AAPL', '10/09/2020', '116.97', '100506900', '115.28', '117', '114.92']\n",
      "['AAPL', '10/08/2020', '114.97', '83477150', '116.25', '116.4', '114.5901']\n",
      "['AAPL', '10/07/2020', '115.08', '96848990', '114.62', '115.55', '114.13']\n",
      "['AAPL', '10/06/2020', '113.16', '161498200', '115.7', '116.12', '112.25']\n",
      "['AAPL', '10/05/2020', '116.5', '106243800', '113.91', '116.65', '113.55']\n",
      "['AAPL', '10/02/2020', '113.02', '144712000', '112.89', '115.37', '112.22']\n",
      "['AAPL', '10/01/2020', '116.79', '116120400', '117.64', '117.72', '115.83']\n",
      "['AAPL', '09/30/2020', '115.81', '142675200', '113.79', '117.26', '113.62']\n",
      "['AAPL', '09/29/2020', '114.09', '100060500', '114.55', '115.31', '113.57']\n"
     ]
    }
   ],
   "source": [
    "with open('AAPL.csv') as f:\n",
    "    reader = csv.reader(f, skipinitialspace=True)\n",
    "    headers = next(reader)\n",
    "    data = list(reader)\n",
    "\n",
    "print(headers)\n",
    "for row in data:\n",
    "    print(row)"
   ]
  },
  {
   "cell_type": "markdown",
   "metadata": {},
   "source": [
    "We load up everything into a NumPy array:"
   ]
  },
  {
   "cell_type": "code",
   "execution_count": 18,
   "metadata": {},
   "outputs": [
    {
     "data": {
      "text/plain": [
       "array([['AAPL', '10/29/2020', '115.32', '146129200', '112.37', '116.93',\n",
       "        '112.2'],\n",
       "       ['AAPL', '10/28/2020', '111.2', '143937800', '115.05', '115.43',\n",
       "        '111.1'],\n",
       "       ['AAPL', '10/27/2020', '116.6', '92276770', '115.49', '117.28',\n",
       "        '114.5399'],\n",
       "       ['AAPL', '10/26/2020', '115.05', '111850700', '114.01', '116.55',\n",
       "        '112.88'],\n",
       "       ['AAPL', '10/23/2020', '115.04', '82572650', '116.39', '116.55',\n",
       "        '114.28'],\n",
       "       ['AAPL', '10/22/2020', '115.75', '101988000', '117.45', '118.04',\n",
       "        '114.59'],\n",
       "       ['AAPL', '10/21/2020', '116.87', '89945980', '116.67', '118.705',\n",
       "        '116.45'],\n",
       "       ['AAPL', '10/20/2020', '117.51', '124423700', '116.2', '118.98',\n",
       "        '115.63'],\n",
       "       ['AAPL', '10/19/2020', '115.98', '120639300', '119.96', '120.419',\n",
       "        '115.66'],\n",
       "       ['AAPL', '10/16/2020', '119.02', '115393800', '121.28', '121.548',\n",
       "        '118.81'],\n",
       "       ['AAPL', '10/15/2020', '120.71', '112559200', '118.72', '121.2',\n",
       "        '118.15'],\n",
       "       ['AAPL', '10/14/2020', '121.19', '151062300', '121', '123.03',\n",
       "        '119.62'],\n",
       "       ['AAPL', '10/13/2020', '121.1', '262330500', '125.27', '125.39',\n",
       "        '119.65'],\n",
       "       ['AAPL', '10/12/2020', '124.4', '240226800', '120.06', '125.18',\n",
       "        '119.2845'],\n",
       "       ['AAPL', '10/09/2020', '116.97', '100506900', '115.28', '117',\n",
       "        '114.92'],\n",
       "       ['AAPL', '10/08/2020', '114.97', '83477150', '116.25', '116.4',\n",
       "        '114.5901'],\n",
       "       ['AAPL', '10/07/2020', '115.08', '96848990', '114.62', '115.55',\n",
       "        '114.13'],\n",
       "       ['AAPL', '10/06/2020', '113.16', '161498200', '115.7', '116.12',\n",
       "        '112.25'],\n",
       "       ['AAPL', '10/05/2020', '116.5', '106243800', '113.91', '116.65',\n",
       "        '113.55'],\n",
       "       ['AAPL', '10/02/2020', '113.02', '144712000', '112.89', '115.37',\n",
       "        '112.22'],\n",
       "       ['AAPL', '10/01/2020', '116.79', '116120400', '117.64', '117.72',\n",
       "        '115.83'],\n",
       "       ['AAPL', '09/30/2020', '115.81', '142675200', '113.79', '117.26',\n",
       "        '113.62'],\n",
       "       ['AAPL', '09/29/2020', '114.09', '100060500', '114.55', '115.31',\n",
       "        '113.57']], dtype='<U10')"
      ]
     },
     "execution_count": 18,
     "metadata": {},
     "output_type": "execute_result"
    }
   ],
   "source": [
    "arr = np.array(data)\n",
    "arr"
   ]
  },
  {
   "cell_type": "markdown",
   "metadata": {},
   "source": [
    "Next we make an array of just the dates:"
   ]
  },
  {
   "cell_type": "code",
   "execution_count": 19,
   "metadata": {},
   "outputs": [
    {
     "data": {
      "text/plain": [
       "array([datetime.datetime(2020, 10, 29, 0, 0),\n",
       "       datetime.datetime(2020, 10, 28, 0, 0),\n",
       "       datetime.datetime(2020, 10, 27, 0, 0),\n",
       "       datetime.datetime(2020, 10, 26, 0, 0),\n",
       "       datetime.datetime(2020, 10, 23, 0, 0),\n",
       "       datetime.datetime(2020, 10, 22, 0, 0),\n",
       "       datetime.datetime(2020, 10, 21, 0, 0),\n",
       "       datetime.datetime(2020, 10, 20, 0, 0),\n",
       "       datetime.datetime(2020, 10, 19, 0, 0),\n",
       "       datetime.datetime(2020, 10, 16, 0, 0),\n",
       "       datetime.datetime(2020, 10, 15, 0, 0),\n",
       "       datetime.datetime(2020, 10, 14, 0, 0),\n",
       "       datetime.datetime(2020, 10, 13, 0, 0),\n",
       "       datetime.datetime(2020, 10, 12, 0, 0),\n",
       "       datetime.datetime(2020, 10, 9, 0, 0),\n",
       "       datetime.datetime(2020, 10, 8, 0, 0),\n",
       "       datetime.datetime(2020, 10, 7, 0, 0),\n",
       "       datetime.datetime(2020, 10, 6, 0, 0),\n",
       "       datetime.datetime(2020, 10, 5, 0, 0),\n",
       "       datetime.datetime(2020, 10, 2, 0, 0),\n",
       "       datetime.datetime(2020, 10, 1, 0, 0),\n",
       "       datetime.datetime(2020, 9, 30, 0, 0),\n",
       "       datetime.datetime(2020, 9, 29, 0, 0)], dtype=object)"
      ]
     },
     "execution_count": 19,
     "metadata": {},
     "output_type": "execute_result"
    }
   ],
   "source": [
    "dates = np.array([parser.parse(dt) for dt in arr[:, 1]])\n",
    "dates"
   ]
  },
  {
   "cell_type": "markdown",
   "metadata": {},
   "source": [
    "Then we make a float array of the numerical values:"
   ]
  },
  {
   "cell_type": "code",
   "execution_count": 20,
   "metadata": {},
   "outputs": [
    {
     "data": {
      "text/plain": [
       "array([[112.37  , 116.93  , 112.2   , 115.32  ],\n",
       "       [115.05  , 115.43  , 111.1   , 111.2   ],\n",
       "       [115.49  , 117.28  , 114.5399, 116.6   ],\n",
       "       [114.01  , 116.55  , 112.88  , 115.05  ],\n",
       "       [116.39  , 116.55  , 114.28  , 115.04  ],\n",
       "       [117.45  , 118.04  , 114.59  , 115.75  ],\n",
       "       [116.67  , 118.705 , 116.45  , 116.87  ],\n",
       "       [116.2   , 118.98  , 115.63  , 117.51  ],\n",
       "       [119.96  , 120.419 , 115.66  , 115.98  ],\n",
       "       [121.28  , 121.548 , 118.81  , 119.02  ],\n",
       "       [118.72  , 121.2   , 118.15  , 120.71  ],\n",
       "       [121.    , 123.03  , 119.62  , 121.19  ],\n",
       "       [125.27  , 125.39  , 119.65  , 121.1   ],\n",
       "       [120.06  , 125.18  , 119.2845, 124.4   ],\n",
       "       [115.28  , 117.    , 114.92  , 116.97  ],\n",
       "       [116.25  , 116.4   , 114.5901, 114.97  ],\n",
       "       [114.62  , 115.55  , 114.13  , 115.08  ],\n",
       "       [115.7   , 116.12  , 112.25  , 113.16  ],\n",
       "       [113.91  , 116.65  , 113.55  , 116.5   ],\n",
       "       [112.89  , 115.37  , 112.22  , 113.02  ],\n",
       "       [117.64  , 117.72  , 115.83  , 116.79  ],\n",
       "       [113.79  , 117.26  , 113.62  , 115.81  ],\n",
       "       [114.55  , 115.31  , 113.57  , 114.09  ]])"
      ]
     },
     "execution_count": 20,
     "metadata": {},
     "output_type": "execute_result"
    }
   ],
   "source": [
    "ohlc = arr[:, [4, 5, 6, 2]].astype(float)\n",
    "ohlc"
   ]
  },
  {
   "cell_type": "markdown",
   "metadata": {},
   "source": [
    "What we want is to identify the days on which the stock closed higher than `116.00`."
   ]
  },
  {
   "cell_type": "markdown",
   "metadata": {},
   "source": [
    "To do this, we basically want to create a mask on column #3:"
   ]
  },
  {
   "cell_type": "code",
   "execution_count": 21,
   "metadata": {},
   "outputs": [
    {
     "data": {
      "text/plain": [
       "array([False, False,  True, False, False, False,  True,  True, False,\n",
       "        True,  True,  True,  True,  True,  True, False, False, False,\n",
       "        True, False,  True, False, False])"
      ]
     },
     "execution_count": 21,
     "metadata": {},
     "output_type": "execute_result"
    }
   ],
   "source": [
    "ohlc[:, 3] > 116.0"
   ]
  },
  {
   "cell_type": "markdown",
   "metadata": {},
   "source": [
    "We could use that mask on the `ohlc` array to filter out records which closed higher than `116.00`:"
   ]
  },
  {
   "cell_type": "code",
   "execution_count": 22,
   "metadata": {},
   "outputs": [
    {
     "data": {
      "text/plain": [
       "array([[115.49  , 117.28  , 114.5399, 116.6   ],\n",
       "       [116.67  , 118.705 , 116.45  , 116.87  ],\n",
       "       [116.2   , 118.98  , 115.63  , 117.51  ],\n",
       "       [121.28  , 121.548 , 118.81  , 119.02  ],\n",
       "       [118.72  , 121.2   , 118.15  , 120.71  ],\n",
       "       [121.    , 123.03  , 119.62  , 121.19  ],\n",
       "       [125.27  , 125.39  , 119.65  , 121.1   ],\n",
       "       [120.06  , 125.18  , 119.2845, 124.4   ],\n",
       "       [115.28  , 117.    , 114.92  , 116.97  ],\n",
       "       [113.91  , 116.65  , 113.55  , 116.5   ],\n",
       "       [117.64  , 117.72  , 115.83  , 116.79  ]])"
      ]
     },
     "execution_count": 22,
     "metadata": {},
     "output_type": "execute_result"
    }
   ],
   "source": [
    "ohlc[ohlc[:, 3] > 116.0]"
   ]
  },
  {
   "cell_type": "markdown",
   "metadata": {},
   "source": [
    "But what we're really after are those dates.\n",
    "\n",
    "Now the `dates` and `ohlc` arrays are in the same order, so we can use the mask we obtain from looking at `ohlc` and apply that mask to the `dates` array:"
   ]
  },
  {
   "cell_type": "code",
   "execution_count": 23,
   "metadata": {},
   "outputs": [
    {
     "data": {
      "text/plain": [
       "array([datetime.datetime(2020, 10, 27, 0, 0),\n",
       "       datetime.datetime(2020, 10, 21, 0, 0),\n",
       "       datetime.datetime(2020, 10, 20, 0, 0),\n",
       "       datetime.datetime(2020, 10, 16, 0, 0),\n",
       "       datetime.datetime(2020, 10, 15, 0, 0),\n",
       "       datetime.datetime(2020, 10, 14, 0, 0),\n",
       "       datetime.datetime(2020, 10, 13, 0, 0),\n",
       "       datetime.datetime(2020, 10, 12, 0, 0),\n",
       "       datetime.datetime(2020, 10, 9, 0, 0),\n",
       "       datetime.datetime(2020, 10, 5, 0, 0),\n",
       "       datetime.datetime(2020, 10, 1, 0, 0)], dtype=object)"
      ]
     },
     "execution_count": 23,
     "metadata": {},
     "output_type": "execute_result"
    }
   ],
   "source": [
    "dates[ohlc[:, 3] > 116.0]"
   ]
  },
  {
   "cell_type": "markdown",
   "metadata": {},
   "source": [
    "If we want to, we could re-assemble this data into a Python list so that we can have the dates and numerical values side by side:"
   ]
  },
  {
   "cell_type": "code",
   "execution_count": 24,
   "metadata": {},
   "outputs": [],
   "source": [
    "mask = ohlc[:, 3] > 116.0"
   ]
  },
  {
   "cell_type": "markdown",
   "metadata": {},
   "source": [
    "We could try this approach, which almost works:"
   ]
  },
  {
   "cell_type": "code",
   "execution_count": 25,
   "metadata": {},
   "outputs": [
    {
     "name": "stdout",
     "output_type": "stream",
     "text": [
      "[datetime.datetime(2020, 10, 27, 0, 0), array([115.49  , 117.28  , 114.5399, 116.6   ])]\n",
      "[datetime.datetime(2020, 10, 21, 0, 0), array([116.67 , 118.705, 116.45 , 116.87 ])]\n",
      "[datetime.datetime(2020, 10, 20, 0, 0), array([116.2 , 118.98, 115.63, 117.51])]\n",
      "[datetime.datetime(2020, 10, 16, 0, 0), array([121.28 , 121.548, 118.81 , 119.02 ])]\n",
      "[datetime.datetime(2020, 10, 15, 0, 0), array([118.72, 121.2 , 118.15, 120.71])]\n",
      "[datetime.datetime(2020, 10, 14, 0, 0), array([121.  , 123.03, 119.62, 121.19])]\n",
      "[datetime.datetime(2020, 10, 13, 0, 0), array([125.27, 125.39, 119.65, 121.1 ])]\n",
      "[datetime.datetime(2020, 10, 12, 0, 0), array([120.06  , 125.18  , 119.2845, 124.4   ])]\n",
      "[datetime.datetime(2020, 10, 9, 0, 0), array([115.28, 117.  , 114.92, 116.97])]\n",
      "[datetime.datetime(2020, 10, 5, 0, 0), array([113.91, 116.65, 113.55, 116.5 ])]\n",
      "[datetime.datetime(2020, 10, 1, 0, 0), array([117.64, 117.72, 115.83, 116.79])]\n"
     ]
    }
   ],
   "source": [
    "filtered_data = [\n",
    "    [date, row]\n",
    "    for date, row in zip(dates[mask], ohlc[mask])\n",
    "]\n",
    "\n",
    "for row in filtered_data:\n",
    "    print(row)"
   ]
  },
  {
   "cell_type": "markdown",
   "metadata": {},
   "source": [
    "The problem here is that our resulting rows contain two elements: the date and an array containing that row's OHLC data."
   ]
  },
  {
   "cell_type": "markdown",
   "metadata": {},
   "source": [
    "We just need to unpack the numeric items in each row, and zip that up."
   ]
  },
  {
   "cell_type": "markdown",
   "metadata": {},
   "source": [
    "Before we do it, let's just look at that concept again and recall how this works using a simpler example."
   ]
  },
  {
   "cell_type": "code",
   "execution_count": 26,
   "metadata": {},
   "outputs": [
    {
     "data": {
      "text/plain": [
       "['10/1/2020', [100, 200, 300, 400]]"
      ]
     },
     "execution_count": 26,
     "metadata": {},
     "output_type": "execute_result"
    }
   ],
   "source": [
    "date = '10/1/2020'\n",
    "numbers = [100, 200, 300, 400]\n",
    "\n",
    "[date, numbers]"
   ]
  },
  {
   "cell_type": "markdown",
   "metadata": {},
   "source": [
    "As you can see, we have the same problem here.\n",
    "\n",
    "Recall that we can unpack an iterable using `*`:"
   ]
  },
  {
   "cell_type": "code",
   "execution_count": 27,
   "metadata": {},
   "outputs": [
    {
     "data": {
      "text/plain": [
       "['10/1/2020', 100, 200, 300, 400]"
      ]
     },
     "execution_count": 27,
     "metadata": {},
     "output_type": "execute_result"
    }
   ],
   "source": [
    "[date, *numbers]"
   ]
  },
  {
   "cell_type": "markdown",
   "metadata": {},
   "source": [
    "As you can see, this does exactly what we want, so we can apply that to our problem."
   ]
  },
  {
   "cell_type": "code",
   "execution_count": 28,
   "metadata": {},
   "outputs": [
    {
     "name": "stdout",
     "output_type": "stream",
     "text": [
      "[datetime.datetime(2020, 10, 27, 0, 0), 115.49, 117.28, 114.5399, 116.6]\n",
      "[datetime.datetime(2020, 10, 21, 0, 0), 116.67, 118.705, 116.45, 116.87]\n",
      "[datetime.datetime(2020, 10, 20, 0, 0), 116.2, 118.98, 115.63, 117.51]\n",
      "[datetime.datetime(2020, 10, 16, 0, 0), 121.28, 121.548, 118.81, 119.02]\n",
      "[datetime.datetime(2020, 10, 15, 0, 0), 118.72, 121.2, 118.15, 120.71]\n",
      "[datetime.datetime(2020, 10, 14, 0, 0), 121.0, 123.03, 119.62, 121.19]\n",
      "[datetime.datetime(2020, 10, 13, 0, 0), 125.27, 125.39, 119.65, 121.1]\n",
      "[datetime.datetime(2020, 10, 12, 0, 0), 120.06, 125.18, 119.2845, 124.4]\n",
      "[datetime.datetime(2020, 10, 9, 0, 0), 115.28, 117.0, 114.92, 116.97]\n",
      "[datetime.datetime(2020, 10, 5, 0, 0), 113.91, 116.65, 113.55, 116.5]\n",
      "[datetime.datetime(2020, 10, 1, 0, 0), 117.64, 117.72, 115.83, 116.79]\n"
     ]
    }
   ],
   "source": [
    "filtered_data = [\n",
    "    [date, *row]\n",
    "    for date, row in zip(dates[mask], ohlc[mask])\n",
    "]\n",
    "\n",
    "for row in filtered_data:\n",
    "    print(row)"
   ]
  }
 ],
 "metadata": {
  "kernelspec": {
   "display_name": "ml-test1(py3.11)",
   "language": "python",
   "name": "ml-test1"
  },
  "language_info": {
   "codemirror_mode": {
    "name": "ipython",
    "version": 3
   },
   "file_extension": ".py",
   "mimetype": "text/x-python",
   "name": "python",
   "nbconvert_exporter": "python",
   "pygments_lexer": "ipython3",
   "version": "3.11.8"
  }
 },
 "nbformat": 4,
 "nbformat_minor": 4
}
