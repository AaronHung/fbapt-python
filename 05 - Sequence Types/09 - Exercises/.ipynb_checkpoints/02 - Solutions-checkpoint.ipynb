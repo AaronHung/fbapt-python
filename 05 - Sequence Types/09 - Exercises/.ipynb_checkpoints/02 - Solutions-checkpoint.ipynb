{
 "cells": [
  {
   "cell_type": "markdown",
   "id": "overhead-neighborhood",
   "metadata": {},
   "source": [
    "### Solutions"
   ]
  },
  {
   "cell_type": "markdown",
   "id": "alike-burlington",
   "metadata": {},
   "source": [
    "#### Exercise 1"
   ]
  },
  {
   "cell_type": "markdown",
   "id": "thousand-oxide",
   "metadata": {},
   "source": [
    "Given the following string:"
   ]
  },
  {
   "cell_type": "code",
   "execution_count": 1,
   "id": "harmful-austria",
   "metadata": {},
   "outputs": [],
   "source": [
    "s = 'FfEeDdCcBbAa'"
   ]
  },
  {
   "cell_type": "markdown",
   "id": "valuable-front",
   "metadata": {},
   "source": [
    "Create two new variables that contain just the lower and upper case letters of `s` respectively, in the correct alphabetical order, i.e:\n",
    "\n",
    "- `'ABCDEF'`\n",
    "- `'abcdef'`"
   ]
  },
  {
   "cell_type": "markdown",
   "id": "quiet-probability",
   "metadata": {},
   "source": [
    "##### Solution"
   ]
  },
  {
   "cell_type": "markdown",
   "id": "superb-belfast",
   "metadata": {},
   "source": [
    "The string `s` is in reverse order, so at some point we'll need to reverse the string. We could either do it before we extract the upper and lwoer case characters, or we could do it after. Let's do both ways."
   ]
  },
  {
   "cell_type": "markdown",
   "id": "egyptian-edward",
   "metadata": {},
   "source": [
    "We'll start by reversing the order first:"
   ]
  },
  {
   "cell_type": "code",
   "execution_count": 2,
   "id": "adopted-tobacco",
   "metadata": {},
   "outputs": [
    {
     "data": {
      "text/plain": [
       "'aAbBcCdDeEfF'"
      ]
     },
     "execution_count": 2,
     "metadata": {},
     "output_type": "execute_result"
    }
   ],
   "source": [
    "reversed_s = s[::-1]\n",
    "reversed_s"
   ]
  },
  {
   "cell_type": "markdown",
   "id": "commercial-differential",
   "metadata": {},
   "source": [
    "Now we can use extended slicing starting at `0` to pick out every second character:"
   ]
  },
  {
   "cell_type": "code",
   "execution_count": 4,
   "id": "iraqi-virtue",
   "metadata": {},
   "outputs": [
    {
     "data": {
      "text/plain": [
       "'abcdef'"
      ]
     },
     "execution_count": 4,
     "metadata": {},
     "output_type": "execute_result"
    }
   ],
   "source": [
    "reversed_s[::2]"
   ]
  },
  {
   "cell_type": "markdown",
   "id": "pediatric-magic",
   "metadata": {},
   "source": [
    "And starting at `1` to pick out the upper case characters:"
   ]
  },
  {
   "cell_type": "code",
   "execution_count": 6,
   "id": "parliamentary-iceland",
   "metadata": {},
   "outputs": [
    {
     "data": {
      "text/plain": [
       "'ABCDEF'"
      ]
     },
     "execution_count": 6,
     "metadata": {},
     "output_type": "execute_result"
    }
   ],
   "source": [
    "reversed_s[1::2]"
   ]
  },
  {
   "cell_type": "markdown",
   "id": "automated-affair",
   "metadata": {},
   "source": [
    "Alternatively, we could pick the upper/lower case characters first, and then reverse the each result:"
   ]
  },
  {
   "cell_type": "code",
   "execution_count": 7,
   "id": "conscious-conversion",
   "metadata": {},
   "outputs": [
    {
     "data": {
      "text/plain": [
       "'ABCDEF'"
      ]
     },
     "execution_count": 7,
     "metadata": {},
     "output_type": "execute_result"
    }
   ],
   "source": [
    "s[::2][::-1]"
   ]
  },
  {
   "cell_type": "code",
   "execution_count": 8,
   "id": "antique-produce",
   "metadata": {},
   "outputs": [
    {
     "data": {
      "text/plain": [
       "'abcdef'"
      ]
     },
     "execution_count": 8,
     "metadata": {},
     "output_type": "execute_result"
    }
   ],
   "source": [
    "s[1::2][::-1]"
   ]
  },
  {
   "cell_type": "markdown",
   "id": "educated-postage",
   "metadata": {},
   "source": [
    "#### Exercise 2"
   ]
  },
  {
   "cell_type": "markdown",
   "id": "looking-vietnamese",
   "metadata": {},
   "source": [
    "Concatenate the following tuples into a single one, but replacing the odd values with zeros (`0`)."
   ]
  },
  {
   "cell_type": "code",
   "execution_count": 16,
   "id": "basic-appeal",
   "metadata": {},
   "outputs": [],
   "source": [
    "t1 = 1, 2, 3, 4, 5, 6\n",
    "t2 = 7, 8, 9, 10\n",
    "t3 = 11, 12, 13, 14, 15, 16, 17"
   ]
  },
  {
   "cell_type": "markdown",
   "id": "advance-america",
   "metadata": {},
   "source": [
    "You can assume that every tuple is a sequence of consecutive integers starting with an odd integer.\n",
    "\n",
    "Try to write your code to be as generic as possible."
   ]
  },
  {
   "cell_type": "markdown",
   "id": "renewable-elder",
   "metadata": {},
   "source": [
    "##### Solution"
   ]
  },
  {
   "cell_type": "markdown",
   "id": "surprising-publication",
   "metadata": {},
   "source": [
    "We cannot mutate tuples, so we'll need to convert our tuples to lists first:"
   ]
  },
  {
   "cell_type": "code",
   "execution_count": 17,
   "id": "secret-worst",
   "metadata": {},
   "outputs": [],
   "source": [
    "l1 = list(t1)\n",
    "l2 = list(t2)\n",
    "l3 = list(t3)"
   ]
  },
  {
   "cell_type": "markdown",
   "id": "standard-space",
   "metadata": {},
   "source": [
    "Now that we have mutable sequences, we can use extended slicing to replace the odd integers with `0` in each list:"
   ]
  },
  {
   "cell_type": "code",
   "execution_count": 19,
   "id": "unable-wells",
   "metadata": {},
   "outputs": [],
   "source": [
    "l1[::2] = [0, 0, 0]\n",
    "l2[1::2] = [0, 0]\n",
    "l3[::2] = [0, 0, 0, 0]"
   ]
  },
  {
   "cell_type": "code",
   "execution_count": 20,
   "id": "adequate-spending",
   "metadata": {},
   "outputs": [
    {
     "data": {
      "text/plain": [
       "[0, 2, 0, 4, 0, 6]"
      ]
     },
     "execution_count": 20,
     "metadata": {},
     "output_type": "execute_result"
    }
   ],
   "source": [
    "l1"
   ]
  },
  {
   "cell_type": "code",
   "execution_count": 21,
   "id": "standard-illness",
   "metadata": {},
   "outputs": [
    {
     "data": {
      "text/plain": [
       "[7, 0, 9, 0]"
      ]
     },
     "execution_count": 21,
     "metadata": {},
     "output_type": "execute_result"
    }
   ],
   "source": [
    "l2"
   ]
  },
  {
   "cell_type": "code",
   "execution_count": 22,
   "id": "nominated-chocolate",
   "metadata": {},
   "outputs": [
    {
     "data": {
      "text/plain": [
       "[0, 12, 0, 14, 0, 16, 0]"
      ]
     },
     "execution_count": 22,
     "metadata": {},
     "output_type": "execute_result"
    }
   ],
   "source": [
    "l3"
   ]
  },
  {
   "cell_type": "markdown",
   "id": "gentle-imperial",
   "metadata": {},
   "source": [
    "So this works, but you'll notice that we had to calculate (in our heads) how many zeros to replace the extended slice with (since with extended slicing the number of elements on both sides of the assignment must match).\n",
    "\n",
    "This is not good code - instead we can determine how many elements are in each extended slice by using the `len` function:"
   ]
  },
  {
   "cell_type": "code",
   "execution_count": null,
   "id": "played-auckland",
   "metadata": {},
   "outputs": [],
   "source": [
    "len(l1[::2]), len(l2[1::2])"
   ]
  }
 ],
 "metadata": {
  "kernelspec": {
   "display_name": "Python 3",
   "language": "python",
   "name": "python3"
  },
  "language_info": {
   "codemirror_mode": {
    "name": "ipython",
    "version": 3
   },
   "file_extension": ".py",
   "mimetype": "text/x-python",
   "name": "python",
   "nbconvert_exporter": "python",
   "pygments_lexer": "ipython3",
   "version": "3.9.1"
  }
 },
 "nbformat": 4,
 "nbformat_minor": 5
}
